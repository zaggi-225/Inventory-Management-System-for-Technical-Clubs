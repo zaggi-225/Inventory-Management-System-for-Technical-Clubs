{
  "nbformat": 4,
  "nbformat_minor": 0,
  "metadata": {
    "colab": {
      "provenance": [],
      "authorship_tag": "ABX9TyNfNarh/oEXPCiYo/LeqOeF",
      "include_colab_link": true
    },
    "kernelspec": {
      "name": "python3",
      "display_name": "Python 3"
    },
    "language_info": {
      "name": "python"
    }
  },
  "cells": [
    {
      "cell_type": "markdown",
      "metadata": {
        "id": "view-in-github",
        "colab_type": "text"
      },
      "source": [
        "<a href=\"https://colab.research.google.com/github/zaggi-225/Inventory-Management-System-for-Technical-Clubs/blob/main/Inventory_Management.ipynb\" target=\"_parent\"><img src=\"https://colab.research.google.com/assets/colab-badge.svg\" alt=\"Open In Colab\"/></a>"
      ]
    },
    {
      "cell_type": "code",
      "execution_count": 3,
      "metadata": {
        "colab": {
          "base_uri": "https://localhost:8080/"
        },
        "id": "n2dC84ip4isT",
        "outputId": "0dfdbee5-82ed-49e0-95d7-2a68023ff09a"
      },
      "outputs": [
        {
          "output_type": "stream",
          "name": "stdout",
          "text": [
            "\n",
            "Inventory Management Menu:\n",
            "1. Add New Item\n",
            "2. View Inventory\n",
            "3. View Individual Item\n",
            "4. Exit\n",
            "Enter your choice: 4\n",
            "Exiting Inventory Management. Goodbye!\n"
          ]
        }
      ],
      "source": [
        "from datetime import datetime\n",
        "\n",
        "class InventoryManagement:\n",
        "    def __init__(self):\n",
        "        self.inventory_data = {}\n",
        "\n",
        "    def add_item(self, item_id, item_name, category, quantity, condition, location, date_acquired, last_used_date, assigned_to, usage_purpose, pricing):\n",
        "        # Create a new item entry\n",
        "        self.inventory_data[item_id] = {\n",
        "            \"item_name\": item_name,\n",
        "            \"category\": category,\n",
        "            \"quantity\": quantity,\n",
        "            \"condition\": condition,\n",
        "            \"location\": location,\n",
        "            \"date_acquired\": date_acquired,\n",
        "            \"last_used_date\": last_used_date,\n",
        "            \"assigned_to\": assigned_to,\n",
        "            \"usage_purpose\": usage_purpose,\n",
        "            \"pricing\": pricing\n",
        "        }\n",
        "        print(f\"Item added: {item_name} (ID: {item_id})\")\n",
        "        return True\n",
        "\n",
        "    def display_inventory(self):\n",
        "        if not self.inventory_data:\n",
        "            print(\"No items in inventory.\")\n",
        "            return\n",
        "\n",
        "        print(\"\\nInventory List:\")\n",
        "        for item_id, details in self.inventory_data.items():\n",
        "            print(f\"\\nItem ID: {item_id}\")\n",
        "            print(f\"Item Name: {details['item_name']}\")\n",
        "            print(f\"Category: {details['category']}\")\n",
        "            print(f\"Quantity: {details['quantity']}\")\n",
        "            print(f\"Condition: {details['condition']}\")\n",
        "            print(f\"Location: {details['location']}\")\n",
        "            print(f\"Date Acquired: {details['date_acquired']}\")\n",
        "            print(f\"Last Used Date: {details['last_used_date']}\")\n",
        "            print(f\"Assigned To: {details['assigned_to']}\")\n",
        "            print(f\"Usage Purpose: {details['usage_purpose']}\")\n",
        "            print(f\"Pricing: {details['pricing']}\")\n",
        "\n",
        "    def view_individual_item(self, item_id):\n",
        "        if item_id in self.inventory_data:\n",
        "            details = self.inventory_data[item_id]\n",
        "            print(f\"\\nItem ID: {item_id}\")\n",
        "            print(f\"Item Name: {details['item_name']}\")\n",
        "            print(f\"Category: {details['category']}\")\n",
        "            print(f\"Quantity: {details['quantity']}\")\n",
        "            print(f\"Condition: {details['condition']}\")\n",
        "            print(f\"Location: {details['location']}\")\n",
        "            print(f\"Date Acquired: {details['date_acquired']}\")\n",
        "            print(f\"Last Used Date: {details['last_used_date']}\")\n",
        "            print(f\"Assigned To: {details['assigned_to']}\")\n",
        "            print(f\"Usage Purpose: {details['usage_purpose']}\")\n",
        "            print(f\"Pricing: {details['pricing']}\")\n",
        "        else:\n",
        "            print(f\"No item found with Item ID: {item_id}\")\n",
        "\n",
        "def main():\n",
        "    inventory_system = InventoryManagement()\n",
        "    while True:\n",
        "        print(\"\\nInventory Management Menu:\")\n",
        "        print(\"1. Add New Item\")\n",
        "        print(\"2. View Inventory\")\n",
        "        print(\"3. View Individual Item\")\n",
        "        print(\"4. Exit\")\n",
        "        choice = input(\"Enter your choice: \")\n",
        "\n",
        "        if choice == \"1\":\n",
        "            item_id = input(\"Enter Item ID: \")\n",
        "            item_name = input(\"Enter Item Name: \")\n",
        "            category = input(\"Enter Category: \")\n",
        "            quantity = int(input(\"Enter Quantity: \"))\n",
        "            condition = input(\"Enter Condition: \")\n",
        "            location = input(\"Enter Location: \")\n",
        "            date_acquired = input(\"Enter Date Acquired (YYYY-MM-DD): \")\n",
        "            last_used_date = input(\"Enter Last Used Date (YYYY-MM-DD): \")\n",
        "            assigned_to = input(\"Enter Assigned To: \")\n",
        "            usage_purpose = input(\"Enter Usage Purpose: \")\n",
        "            pricing = float(input(\"Enter Pricing: \"))\n",
        "            inventory_system.add_item(item_id, item_name, category, quantity, condition, location, date_acquired, last_used_date, assigned_to, usage_purpose, pricing)\n",
        "\n",
        "        elif choice == \"2\":\n",
        "            inventory_system.display_inventory()\n",
        "\n",
        "        elif choice == \"3\":\n",
        "            item_id = input(\"Enter Item ID to view: \")\n",
        "            inventory_system.view_individual_item(item_id)\n",
        "\n",
        "        elif choice == \"4\":\n",
        "            print(\"Exiting Inventory Management. Goodbye!\")\n",
        "            break\n",
        "\n",
        "        else:\n",
        "            print(\"Invalid choice. Please try again.\")\n",
        "\n",
        "if __name__ == \"__main__\":\n",
        "    main()\n"
      ]
    }
  ]
}